{
 "cells": [
  {
   "cell_type": "code",
   "execution_count": 1,
   "id": "a5112078-b337-47c5-a3ad-f4f69f72b472",
   "metadata": {},
   "outputs": [],
   "source": [
    "import pandas as pd"
   ]
  },
  {
   "cell_type": "code",
   "execution_count": 5,
   "id": "92fb51f5-6519-47e4-9ea4-e7c55a04acca",
   "metadata": {},
   "outputs": [],
   "source": [
    "#restest"
   ]
  },
  {
   "cell_type": "code",
   "execution_count": 7,
   "id": "da5c40e2-e689-4ba1-853d-59c349110926",
   "metadata": {},
   "outputs": [],
   "source": [
    "#take string and integer and print them together\n"
   ]
  },
  {
   "cell_type": "code",
   "execution_count": 65,
   "id": "fc660b8a-faac-4aa2-9714-606290e4ed20",
   "metadata": {},
   "outputs": [
    {
     "name": "stdout",
     "output_type": "stream",
     "text": [
      "hello 5\n",
      "hello 5\n"
     ]
    }
   ],
   "source": [
    "string_1 = 'hello'\n",
    "integer1 = 5\n",
    "print(string_1, integer1)\n",
    "print ('hello',5)"
   ]
  },
  {
   "cell_type": "code",
   "execution_count": 15,
   "id": "d7c0c4e7-616d-476d-bd66-0476af404d2a",
   "metadata": {},
   "outputs": [],
   "source": [
    "# user input as who has attended class or not if yes print hi u have attended class"
   ]
  },
  {
   "cell_type": "code",
   "execution_count": 5,
   "id": "e68a2c99-1967-473c-97b4-88793139ae12",
   "metadata": {},
   "outputs": [
    {
     "name": "stdin",
     "output_type": "stream",
     "text": [
      "what is your name Abuzar\n",
      "did you attend the class yes\n"
     ]
    },
    {
     "name": "stdout",
     "output_type": "stream",
     "text": [
      "Welcome Abuzar, thank you for attending\n",
      "welcome Abuzar thank you for attending\n"
     ]
    }
   ],
   "source": [
    "name = input('what is your name')\n",
    "attendance = input('did you attend the class::')\n",
    "print(f'Welcome {name}, thank you for attending')\n",
    "print('welcome',name,'thank you for attending')"
   ]
  },
  {
   "cell_type": "code",
   "execution_count": 17,
   "id": "5ec2be1d-253c-4abc-a38b-52ca86910cab",
   "metadata": {},
   "outputs": [],
   "source": [
    "# list of integers\n",
    "# add new value at the end"
   ]
  },
  {
   "cell_type": "code",
   "execution_count": 30,
   "id": "2e3188e5-8683-4601-b208-fbbf53b831ae",
   "metadata": {},
   "outputs": [],
   "source": [
    "numbers = [1,2,3,4,5]\n",
    "# kashyat.append(key)\n",
    "numbers.append(100)"
   ]
  },
  {
   "cell_type": "code",
   "execution_count": 32,
   "id": "eeafed95-4290-405c-a5a6-c4648b20c1c2",
   "metadata": {},
   "outputs": [
    {
     "data": {
      "text/plain": [
       "[1, 2, 3, 4, 5, 100]"
      ]
     },
     "execution_count": 32,
     "metadata": {},
     "output_type": "execute_result"
    }
   ],
   "source": [
    "numbers"
   ]
  },
  {
   "cell_type": "code",
   "execution_count": 34,
   "id": "666fbf6c-a782-4a34-91ce-79f23b355536",
   "metadata": {},
   "outputs": [],
   "source": [
    "# list with elements\n",
    "# find if an element is present"
   ]
  },
  {
   "cell_type": "code",
   "execution_count": 36,
   "id": "81f68d25-bdbb-47be-941f-d6ebac82a8e7",
   "metadata": {},
   "outputs": [],
   "source": [
    "element = 'chair','ac','bag'"
   ]
  },
  {
   "cell_type": "code",
   "execution_count": 48,
   "id": "916e5953-bb49-4db6-a8bc-aae91481fa8f",
   "metadata": {},
   "outputs": [
    {
     "name": "stdin",
     "output_type": "stream",
     "text": [
      "what do u wish to find bottle\n"
     ]
    },
    {
     "name": "stdout",
     "output_type": "stream",
     "text": [
      "sorry element not found\n"
     ]
    }
   ],
   "source": [
    "lost = input('what do u wish to find')\n",
    "\n",
    "if lost in element:\n",
    "    print('yeah it is present')\n",
    "else:\n",
    "    print('sorry element not found')"
   ]
  },
  {
   "cell_type": "code",
   "execution_count": 50,
   "id": "8036ed10-3ac2-4505-9087-103a171bcce4",
   "metadata": {},
   "outputs": [
    {
     "name": "stdout",
     "output_type": "stream",
     "text": [
      "yeah it is present\n"
     ]
    }
   ],
   "source": [
    "if 'ac' in element:\n",
    "    print('yeah it is present')\n",
    "else:\n",
    "    print('sorry element not found')"
   ]
  },
  {
   "cell_type": "code",
   "execution_count": 23,
   "id": "1612a361-0ff0-4788-aab0-2f0d824d138b",
   "metadata": {},
   "outputs": [
    {
     "ename": "SyntaxError",
     "evalue": "expected ':' (3131570618.py, line 3)",
     "output_type": "error",
     "traceback": [
      "\u001b[1;36m  Cell \u001b[1;32mIn[23], line 3\u001b[1;36m\u001b[0m\n\u001b[1;33m    if x==6\u001b[0m\n\u001b[1;37m           ^\u001b[0m\n\u001b[1;31mSyntaxError\u001b[0m\u001b[1;31m:\u001b[0m expected ':'\n"
     ]
    }
   ],
   "source": [
    "x = 1\n",
    "while 0<x<11:\n",
    "    if x==6\n",
    "    "
   ]
  },
  {
   "cell_type": "code",
   "execution_count": 52,
   "id": "88757601-1936-48d2-9e2e-31d4ba3d0d35",
   "metadata": {},
   "outputs": [
    {
     "name": "stdout",
     "output_type": "stream",
     "text": [
      "1\n",
      "2\n",
      "3\n",
      "4\n",
      "5\n"
     ]
    }
   ],
   "source": [
    "numbers = (1,2,3,4,5,6,7,8,9)\n",
    "for num in numbers:\n",
    "    if num <=5:\n",
    "        print(num)"
   ]
  },
  {
   "cell_type": "code",
   "execution_count": 60,
   "id": "2567d2f5-fb85-4ef7-a8df-4cdf9af2b25f",
   "metadata": {},
   "outputs": [
    {
     "name": "stdout",
     "output_type": "stream",
     "text": [
      "1\n",
      "2\n",
      "3\n",
      "4\n",
      "5\n"
     ]
    }
   ],
   "source": [
    "for num in range(1,6):\n",
    "    print(num)"
   ]
  },
  {
   "cell_type": "code",
   "execution_count": 62,
   "id": "eeb4a493-5453-42fd-ba86-3b6ed5c6354b",
   "metadata": {},
   "outputs": [
    {
     "name": "stdout",
     "output_type": "stream",
     "text": [
      "2\n",
      "4\n",
      "6\n",
      "8\n",
      "10\n",
      "12\n",
      "14\n",
      "16\n",
      "18\n",
      "20\n"
     ]
    }
   ],
   "source": [
    "for i in range (1,11):\n",
    "    print(2*i)"
   ]
  },
  {
   "cell_type": "code",
   "execution_count": 17,
   "id": "3c9077f7-8cbe-4547-a63b-db07a4c829d4",
   "metadata": {},
   "outputs": [],
   "source": [
    "element = 'chair','ac','bag'"
   ]
  },
  {
   "cell_type": "code",
   "execution_count": 21,
   "id": "523b2384-1d5c-48a9-9381-8957a817b417",
   "metadata": {},
   "outputs": [
    {
     "name": "stdout",
     "output_type": "stream",
     "text": [
      "yeah it is present\n"
     ]
    }
   ],
   "source": [
    "if 'ac' in element:\n",
    "    print('yeah it is present')\n",
    "else:\n",
    "    print('sorry element not found')"
   ]
  },
  {
   "cell_type": "code",
   "execution_count": 25,
   "id": "0a4dd260-39f2-4b6c-bca0-b808931ba71b",
   "metadata": {},
   "outputs": [],
   "source": [
    "numbers = (1,2,3,4,5,6,7,8,9)"
   ]
  },
  {
   "cell_type": "code",
   "execution_count": 55,
   "id": "a8f63c83-f0e2-4623-b42b-c325c42e7ada",
   "metadata": {},
   "outputs": [
    {
     "name": "stdout",
     "output_type": "stream",
     "text": [
      "1\n",
      "2\n",
      "3\n",
      "4\n",
      "5\n"
     ]
    }
   ],
   "source": [
    "for num in numbers:\n",
    "    if num <=5:\n",
    "     print(num)"
   ]
  },
  {
   "cell_type": "code",
   "execution_count": 57,
   "id": "50803064-5f9d-4e23-8929-70d8fbeb60a7",
   "metadata": {},
   "outputs": [
    {
     "name": "stdout",
     "output_type": "stream",
     "text": [
      "1\n",
      "2\n",
      "3\n",
      "4\n",
      "5\n"
     ]
    }
   ],
   "source": [
    "for num in range(1,6):\n",
    "    print(num)            "
   ]
  },
  {
   "cell_type": "code",
   "execution_count": 59,
   "id": "debf89e7-6494-4c16-a4b4-f283aa03fdc1",
   "metadata": {},
   "outputs": [
    {
     "name": "stdout",
     "output_type": "stream",
     "text": [
      "3\n",
      "6\n",
      "9\n",
      "12\n",
      "15\n",
      "18\n",
      "21\n",
      "24\n",
      "27\n",
      "30\n"
     ]
    }
   ],
   "source": [
    "for v in range(1,11):\n",
    "   print(3*v)"
   ]
  },
  {
   "cell_type": "code",
   "execution_count": 71,
   "id": "cfd8192e-ad3f-4029-adb0-9f9c38275d57",
   "metadata": {},
   "outputs": [
    {
     "name": "stdout",
     "output_type": "stream",
     "text": [
      "8\n"
     ]
    }
   ],
   "source": [
    "x=4\n",
    "y=2\n",
    "print(x*y)"
   ]
  },
  {
   "cell_type": "code",
   "execution_count": null,
   "id": "edd7f35c-4c2f-4cf9-953c-57373591d579",
   "metadata": {},
   "outputs": [],
   "source": []
  },
  {
   "cell_type": "code",
   "execution_count": null,
   "id": "a31beec5-88c2-4039-be5a-6996756602d3",
   "metadata": {},
   "outputs": [],
   "source": []
  },
  {
   "cell_type": "code",
   "execution_count": null,
   "id": "648267ea-5218-4671-888f-a7a361dfe83b",
   "metadata": {},
   "outputs": [],
   "source": []
  },
  {
   "cell_type": "code",
   "execution_count": null,
   "id": "cef890f3-7652-4974-b9dd-55e4c69f147c",
   "metadata": {},
   "outputs": [],
   "source": []
  }
 ],
 "metadata": {
  "kernelspec": {
   "display_name": "Python 3 (ipykernel)",
   "language": "python",
   "name": "python3"
  },
  "language_info": {
   "codemirror_mode": {
    "name": "ipython",
    "version": 3
   },
   "file_extension": ".py",
   "mimetype": "text/x-python",
   "name": "python",
   "nbconvert_exporter": "python",
   "pygments_lexer": "ipython3",
   "version": "3.12.4"
  }
 },
 "nbformat": 4,
 "nbformat_minor": 5
}
